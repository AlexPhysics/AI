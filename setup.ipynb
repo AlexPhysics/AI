{
  "cells": [
    {
      "cell_type": "markdown",
      "metadata": {
        "id": "iFlutahBZ45L"
      },
      "source": [
        "# =Documentation="
      ]
    },
    {
      "cell_type": "code",
      "execution_count": null,
      "metadata": {
        "id": "5fhw3_hNaEpv"
      },
      "outputs": [],
      "source": [
        "#https://www.youtube.com/watch?v=aokn48vB0kc&list=PLni7UUq3PnPnPEPHAedrdXm2HoniZtkAC&index=2"
      ]
    },
    {
      "cell_type": "code",
      "execution_count": null,
      "metadata": {
        "id": "wZWCnAXoaQRV"
      },
      "outputs": [],
      "source": [
        "#Python : https://www.python.org/downloads"
      ]
    },
    {
      "cell_type": "code",
      "execution_count": null,
      "metadata": {
        "id": "ZDeCjeV5aNsb"
      },
      "outputs": [],
      "source": [
        "#EdgeGPT: https://github.com/acheong08/EdgeGPT"
      ]
    },
    {
      "cell_type": "code",
      "execution_count": null,
      "metadata": {
        "id": "ANSkupytaNjk"
      },
      "outputs": [],
      "source": [
        "#WhisperAi from openAi: https://github.com/openai/whisper"
      ]
    },
    {
      "cell_type": "code",
      "execution_count": null,
      "metadata": {
        "id": "x3Rba_FzaaKU"
      },
      "outputs": [],
      "source": [
        "#SpeechRecognition: https://pypi.org/project/SpeechRecognition/"
      ]
    },
    {
      "cell_type": "code",
      "execution_count": null,
      "metadata": {
        "id": "Ilgt9GvdaaBl"
      },
      "outputs": [],
      "source": [
        "#Polly (AWS): https://aws.amazon.com/polly/"
      ]
    },
    {
      "cell_type": "code",
      "execution_count": null,
      "metadata": {
        "id": "PpUC9uO1awx2"
      },
      "outputs": [],
      "source": [
        "#OpenAI: https://pypi.org/project/openai/"
      ]
    },
    {
      "cell_type": "markdown",
      "metadata": {
        "id": "xCr1iI5fZz_S"
      },
      "source": [
        "# Installing libraries\n"
      ]
    },
    {
      "cell_type": "code",
      "execution_count": null,
      "metadata": {
        "id": "ZVs_0sloaGjg"
      },
      "outputs": [],
      "source": [
        "#Install python 3.10+"
      ]
    },
    {
      "cell_type": "code",
      "execution_count": null,
      "metadata": {
        "id": "fvOaJevkV7d4"
      },
      "outputs": [],
      "source": [
        "#Install EdgeGPT to use bing API's: "
      ]
    },
    {
      "cell_type": "code",
      "execution_count": null,
      "metadata": {
        "id": "Ekog90XXV7d4",
        "tags": []
      },
      "outputs": [],
      "source": [
        "pip install EdgeGPT --upgrade"
      ]
    },
    {
      "cell_type": "code",
      "execution_count": null,
      "metadata": {
        "id": "W-zEid2kV7d5"
      },
      "outputs": [],
      "source": [
        "#Install OpenAI Whisper for transcribing audio->text"
      ]
    },
    {
      "cell_type": "code",
      "execution_count": null,
      "metadata": {
        "id": "yllfdjVGV7d5"
      },
      "outputs": [],
      "source": [
        "pip install git+https://github.com/openai/whisper.git "
      ]
    },
    {
      "cell_type": "code",
      "execution_count": null,
      "metadata": {
        "id": "zKQ4KCqEV7d5"
      },
      "outputs": [],
      "source": [
        "pip install --upgrade --no-deps --force-reinstall git+https://github.com/openai/whisper.git"
      ]
    },
    {
      "cell_type": "code",
      "execution_count": null,
      "metadata": {
        "id": "pw2mq_TOV7d5"
      },
      "outputs": [],
      "source": [
        "#Install the Speech Recognition library for recording microphone input"
      ]
    },
    {
      "cell_type": "code",
      "execution_count": null,
      "metadata": {
        "id": "KE3-8v2qV7d6"
      },
      "outputs": [],
      "source": [
        "pip install SpeechRecognition"
      ]
    },
    {
      "cell_type": "code",
      "execution_count": null,
      "metadata": {
        "id": "ZVTpYtnFV7d6"
      },
      "outputs": [],
      "source": [
        "#To test what voice fits better you have to create an AWS account. \n",
        "#Also in the code in the synthesize_speech function the voice can be changed.\n",
        "#Install the boto3 library to access AWS services (AWS Polly-neural engine to generate the text-to-speech voice)"
      ]
    },
    {
      "cell_type": "code",
      "execution_count": null,
      "metadata": {
        "id": "7bxUAw_qV7d6"
      },
      "outputs": [],
      "source": [
        "pip install boto3"
      ]
    },
    {
      "cell_type": "code",
      "execution_count": null,
      "metadata": {
        "id": "oew6aYVDV7d6"
      },
      "outputs": [],
      "source": [
        "#Install the pydub library to play the mp3 file"
      ]
    },
    {
      "cell_type": "code",
      "execution_count": null,
      "metadata": {
        "id": "owzVrqm0V7d6"
      },
      "outputs": [],
      "source": [
        "pip install pydub"
      ]
    },
    {
      "cell_type": "code",
      "execution_count": null,
      "metadata": {
        "id": "6NVB_XNPV7d7"
      },
      "outputs": [],
      "source": [
        "#Install openAI"
      ]
    },
    {
      "cell_type": "code",
      "execution_count": null,
      "metadata": {
        "id": "WE0h_GRhV7d7"
      },
      "outputs": [],
      "source": [
        "pip install openai"
      ]
    },
    {
      "cell_type": "markdown",
      "metadata": {
        "id": "pqnYfmWwZn7c"
      },
      "source": [
        "# Small parametrization"
      ]
    },
    {
      "cell_type": "code",
      "execution_count": null,
      "metadata": {
        "id": "jC4B2swRV7d7"
      },
      "outputs": [],
      "source": [
        "#In order to use openAI API's you need to get one from here:\n",
        "#https://platform.openai.com/account/api-keys"
      ]
    },
    {
      "cell_type": "code",
      "execution_count": null,
      "metadata": {
        "id": "zpV2uOHYV7d7"
      },
      "outputs": [],
      "source": [
        "#Copy it and paste inside the code that you will find below:\n",
        "#openai.api_key = \"[paste your OpenAI API key here]\""
      ]
    },
    {
      "cell_type": "code",
      "execution_count": null,
      "metadata": {
        "id": "X765-6O8V7d8"
      },
      "outputs": [],
      "source": [
        "#Install the cookie editor extension for Microsoft Edge(since bing can function only with Edge)"
      ]
    },
    {
      "cell_type": "code",
      "execution_count": null,
      "metadata": {
        "id": "UIct9f5FV7d8"
      },
      "outputs": [],
      "source": [
        "#https://microsoftedge.microsoft.com/addons/detail/cookieeditor/neaplmfkghagebokkhpjpoebhdledlfi?refid=bingshortanswers"
      ]
    },
    {
      "cell_type": "code",
      "execution_count": null,
      "metadata": {
        "id": "E9IERL4jV7d8"
      },
      "outputs": [],
      "source": [
        "#FYI that's the Bing chat AI: https://www.bing.com/search?form=MY02AE&OCID=MY02AE&pl=launch&q=Bing+AI&showconv=1"
      ]
    },
    {
      "cell_type": "code",
      "execution_count": null,
      "metadata": {
        "id": "OxvivfchV7d8"
      },
      "outputs": [],
      "source": [
        "#Go to bing.com\n",
        "#Open the extension\n",
        "#Click \"Export\" on the bottom right, then \"Export as JSON\" (This saves your cookies to clipboard)\n",
        "#Paste your cookies into a file cookies.json"
      ]
    },
    {
      "cell_type": "markdown",
      "metadata": {
        "id": "tPwCw3ieZfTU"
      },
      "source": [
        "# The .py code"
      ]
    },
    {
      "cell_type": "code",
      "execution_count": null,
      "metadata": {
        "id": "pGmICn3RbB5K"
      },
      "outputs": [],
      "source": [
        "#This is a Python voice assistant that takes two different wake words. \n",
        "#One for prompting Bing AI using EdgeGPT (Bing) and the other will prompt the GPT-3.5-Turbo API (Jarvis). \n",
        "#For transcribing this program implements OpenAI Whisper locally. Text-to-speech is done with AWS Polly."
      ]
    }
  ],
  "metadata": {
    "colab": {
      "provenance": [],
      "toc_visible": true
    },
    "gpuClass": "standard",
    "kernelspec": {
      "display_name": "Python 3",
      "name": "python3"
    },
    "language_info": {
      "name": "python"
    }
  },
  "nbformat": 4,
  "nbformat_minor": 0
}
